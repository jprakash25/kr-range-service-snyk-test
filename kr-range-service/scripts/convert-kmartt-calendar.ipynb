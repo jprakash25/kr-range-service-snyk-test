{
 "cells": [
  {
   "cell_type": "code",
   "execution_count": 2,
   "metadata": {},
   "outputs": [],
   "source": [
    "import pandas as pd\n",
    "mainframe_calendar = pd.read_csv('./raw-data/VJR003_202103261300.csv')\n",
    "mainframe_calendar = mainframe_calendar.rename(columns={'M_ACTGYR': 'ACC_YEAR',\n",
    "                                                        'M_ACTGQTR': 'ACC_QUARTER',\n",
    "                                                        'M_ACTGPRD':'ACC_PERIOD',\n",
    "                                                        'M_ACTGWK':'ACC_WEEK',\n",
    "                                                        'M_ACTGWK_RLTV':'ACC_WEEK_RELATIVE',\n",
    "                                                        'D_END_ACTGWK':'ACC_END_WEEK_DATE',\n",
    "                                                        'M_GRGYR':'GREGORIAN_YEAR',\n",
    "                                                        'M_GRGWK':'GREGORIAN_WEEK'\n",
    "                                                       })\n",
    "mainframe_calendar['ACC_END_WEEK_DATE'] = pd.to_datetime(mainframe_calendar['ACC_END_WEEK_DATE'], format='%Y-%m-%d')\n",
    "mainframe_calendar['ACC_START_WEEK_DATE'] = mainframe_calendar['ACC_END_WEEK_DATE'] -  pd.to_timedelta(6, unit='d')\n",
    "mainframe_calendar['ACC_PERIOD'] =  mainframe_calendar['ACC_PERIOD'].apply(lambda x: '{0:0>2}'.format(x))\n",
    "mainframe_calendar['ACC_WEEK_RELATIVE'] = mainframe_calendar['ACC_WEEK_RELATIVE'].apply(lambda x: '{0:0>2}'.format(x))\n",
    "mainframe_calendar['ACC_YEAR'] = pd.to_datetime(mainframe_calendar['ACC_YEAR'], format='%Y')\n",
    "mainframe_calendar['ACC_YEAR'] = mainframe_calendar['ACC_YEAR'].dt.strftime('%y')\n",
    "mainframe_calendar['ACC_START_WEEK_DATE'] = pd.to_datetime(mainframe_calendar['ACC_START_WEEK_DATE'], format='%d/%m/%y').dt.strftime('%d/%m/%Y')\n",
    "\n",
    "mainframe_calendar['ACC_END_WEEK_DATE'] = pd.to_datetime(mainframe_calendar['ACC_END_WEEK_DATE'], format='%d/%m/%y').dt.strftime('%d/%m/%Y')\n",
    "mainframe_calendar = mainframe_calendar[['ACC_YEAR', 'ACC_PERIOD',\n",
    "                                         'ACC_WEEK','ACC_START_WEEK_DATE',\n",
    "                                         'ACC_END_WEEK_DATE','ACC_WEEK_RELATIVE', 'ACC_QUARTER',\n",
    "                                         'GREGORIAN_YEAR','GREGORIAN_WEEK']]\n",
    "mainframe_calendar['PWF'] = 'PD' + mainframe_calendar['ACC_PERIOD'] + 'WK' + mainframe_calendar['ACC_WEEK_RELATIVE'] + 'F' + mainframe_calendar['ACC_YEAR']\n",
    "mainframe_calendar.to_csv('./accounting_calendar.csv', index=False)"
   ]
  },
  {
   "cell_type": "code",
   "execution_count": null,
   "metadata": {},
   "outputs": [],
   "source": []
  }
 ],
 "metadata": {
  "kernelspec": {
   "display_name": "Python 3",
   "language": "python",
   "name": "python3"
  },
  "language_info": {
   "codemirror_mode": {
    "name": "ipython",
    "version": 3
   },
   "file_extension": ".py",
   "mimetype": "text/x-python",
   "name": "python",
   "nbconvert_exporter": "python",
   "pygments_lexer": "ipython3",
   "version": "3.6.7"
  }
 },
 "nbformat": 4,
 "nbformat_minor": 2
}
